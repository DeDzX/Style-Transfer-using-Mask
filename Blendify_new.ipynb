{
 "cells": [
  {
   "cell_type": "code",
   "execution_count": 1,
   "id": "14b12934-94de-4c26-9123-5cfb85c7895d",
   "metadata": {},
   "outputs": [],
   "source": [
    "import gradio as gr\n",
    "from PIL import Image\n",
    "import torch\n",
    "import torch.nn as nn\n",
    "import torchvision.transforms as transforms\n",
    "import torchvision.models as models"
   ]
  },
  {
   "cell_type": "code",
   "execution_count": 2,
   "id": "a5498317-7ae6-4998-bee9-c63b7b46ef82",
   "metadata": {},
   "outputs": [],
   "source": [
    "device = torch.device(\"cuda\" if torch.cuda.is_available() else \"cpu\")\n",
    "\n",
    "transform = transforms.Compose([\n",
    "    transforms.Resize((256, 256)),\n",
    "    transforms.ToTensor()\n",
    "])"
   ]
  },
  {
   "cell_type": "code",
   "execution_count": 3,
   "id": "2e36f296-f93a-4733-911f-f5d6f0e59caf",
   "metadata": {},
   "outputs": [
    {
     "name": "stderr",
     "output_type": "stream",
     "text": [
      "C:\\Users\\visio\\AppData\\Local\\Programs\\Python\\Python310\\lib\\site-packages\\torchvision\\models\\_utils.py:208: UserWarning: The parameter 'pretrained' is deprecated since 0.13 and may be removed in the future, please use 'weights' instead.\n",
      "  warnings.warn(\n",
      "C:\\Users\\visio\\AppData\\Local\\Programs\\Python\\Python310\\lib\\site-packages\\torchvision\\models\\_utils.py:223: UserWarning: Arguments other than a weight enum or `None` for 'weights' are deprecated since 0.13 and may be removed in the future. The current behavior is equivalent to passing `weights=VGG16_Weights.IMAGENET1K_V1`. You can also use `weights=VGG16_Weights.DEFAULT` to get the most up-to-date weights.\n",
      "  warnings.warn(msg)\n"
     ]
    }
   ],
   "source": [
    "vgg = models.vgg16(pretrained=True).features.to(device).eval()"
   ]
  },
  {
   "cell_type": "code",
   "execution_count": 4,
   "id": "a11257c2-5592-449e-a2cc-25b1faf456a8",
   "metadata": {},
   "outputs": [],
   "source": [
    "content_layers = ['21']\n",
    "style_layers = ['0', '5', '10', '19', '28']"
   ]
  },
  {
   "cell_type": "code",
   "execution_count": 5,
   "id": "831206a9-6ddd-45cb-97fe-132311a7c264",
   "metadata": {},
   "outputs": [],
   "source": [
    "class VGGFeatures(nn.Module):\n",
    "    def __init__(self, model, style_layers, content_layers):\n",
    "        super(VGGFeatures, self).__init__()\n",
    "        self.model = model\n",
    "        self.style_layers = style_layers\n",
    "        self.content_layers = content_layers\n",
    "    def forward(self, x):\n",
    "        content_features = {}\n",
    "        style_features = {}\n",
    "        for name, layer in self.model._modules.items():\n",
    "            x = layer(x)\n",
    "            if name in self.content_layers:\n",
    "                content_features[name] = x\n",
    "            if name in self.style_layers:\n",
    "                style_features[name] = x\n",
    "        return content_features, style_features"
   ]
  },
  {
   "cell_type": "code",
   "execution_count": 6,
   "id": "47e59ca3-7cf8-478c-9154-4460864cf7f3",
   "metadata": {},
   "outputs": [],
   "source": [
    "def gram_matrix(tensor):\n",
    "    b, c, h, w = tensor.size()\n",
    "    features = tensor.view(b * c, h * w)\n",
    "    G = torch.mm(features, features.t())\n",
    "    return G.div(b * c * h * w)"
   ]
  },
  {
   "cell_type": "code",
   "execution_count": 7,
   "id": "fd58443e-e844-478a-8aff-e41f00801e61",
   "metadata": {},
   "outputs": [],
   "source": [
    "def load_image(image):\n",
    "    image = transform(image).unsqueeze(0).to(device)\n",
    "    return image"
   ]
  },
  {
   "cell_type": "code",
   "execution_count": 8,
   "id": "e62f632a-8a80-4297-8fbb-c098d1c4aab5",
   "metadata": {},
   "outputs": [],
   "source": [
    "def run_style_transfer(content_img, style_img, mask_img, num_steps=300, style_weight=1e6, content_weight=1):\n",
    "    content = load_image(content_img)\n",
    "    style = load_image(style_img)\n",
    "    mask = transform(mask_img).unsqueeze(0).to(device)\n",
    "\n",
    "    input_img = content.clone().requires_grad_(True)\n",
    "    model = VGGFeatures(vgg, style_layers, content_layers).to(device)\n",
    "\n",
    "    optimizer = torch.optim.LBFGS([input_img])\n",
    "\n",
    "    style_targets = {}\n",
    "    content_targets = {}\n",
    "    content_features, style_features = model(content)\n",
    "    _, style_features_ref = model(style)\n",
    "    \n",
    "    for name in content_features:\n",
    "        content_targets[name] = content_features[name].detach()\n",
    "    for name in style_features:\n",
    "        style_targets[name] = gram_matrix(style_features_ref[name].detach())\n",
    "\n",
    "    run = [0]\n",
    "    while run[0] <= num_steps:\n",
    "        def closure():\n",
    "            input_img.data.clamp_(0, 1)\n",
    "            optimizer.zero_grad()\n",
    "            content_pred, style_pred = model(input_img)\n",
    "\n",
    "            content_loss = 0\n",
    "            style_loss = 0\n",
    "\n",
    "            for name in content_pred:\n",
    "                content_loss += content_weight * torch.nn.functional.mse_loss(content_pred[name], content_targets[name])\n",
    "            for name in style_pred:\n",
    "                G = gram_matrix(style_pred[name])\n",
    "                A = style_targets[name]\n",
    "                style_loss += style_weight * torch.nn.functional.mse_loss(G, A)\n",
    "\n",
    "            total_loss = content_loss + style_loss\n",
    "            total_loss.backward()\n",
    "            run[0] += 1\n",
    "            return total_loss\n",
    "\n",
    "        optimizer.step(closure)\n",
    "\n",
    "    input_img.data.clamp_(0, 1)\n",
    "    result = input_img.cpu().clone().squeeze(0)\n",
    "    result = transforms.ToPILImage()(result)\n",
    "\n",
    "    mask_img = mask_img.convert(\"L\").resize(result.size)\n",
    "    content_img = content_img.resize(result.size)\n",
    "    result = Image.composite(result, content_img, mask_img)\n",
    "    return result"
   ]
  },
  {
   "cell_type": "code",
   "execution_count": null,
   "id": "8ebc01ed-b6d4-4732-888e-99f1c58374e9",
   "metadata": {},
   "outputs": [
    {
     "name": "stdout",
     "output_type": "stream",
     "text": [
      "* Running on local URL:  http://127.0.0.1:7860\n",
      "\n",
      "To create a public link, set `share=True` in `launch()`.\n"
     ]
    },
    {
     "data": {
      "text/html": [
       "<div><iframe src=\"http://127.0.0.1:7860/\" width=\"100%\" height=\"500\" allow=\"autoplay; camera; microphone; clipboard-read; clipboard-write;\" frameborder=\"0\" allowfullscreen></iframe></div>"
      ],
      "text/plain": [
       "<IPython.core.display.HTML object>"
      ]
     },
     "metadata": {},
     "output_type": "display_data"
    },
    {
     "name": "stderr",
     "output_type": "stream",
     "text": [
      "ERROR:    Exception in ASGI application\n",
      "Traceback (most recent call last):\n",
      "  File \"C:\\Users\\visio\\AppData\\Local\\Programs\\Python\\Python310\\lib\\site-packages\\uvicorn\\protocols\\http\\h11_impl.py\", line 403, in run_asgi\n",
      "    result = await app(  # type: ignore[func-returns-value]\n",
      "  File \"C:\\Users\\visio\\AppData\\Local\\Programs\\Python\\Python310\\lib\\site-packages\\uvicorn\\middleware\\proxy_headers.py\", line 60, in __call__\n",
      "    return await self.app(scope, receive, send)\n",
      "  File \"C:\\Users\\visio\\AppData\\Local\\Programs\\Python\\Python310\\lib\\site-packages\\fastapi\\applications.py\", line 1054, in __call__\n",
      "    await super().__call__(scope, receive, send)\n",
      "  File \"C:\\Users\\visio\\AppData\\Local\\Programs\\Python\\Python310\\lib\\site-packages\\starlette\\applications.py\", line 112, in __call__\n",
      "    await self.middleware_stack(scope, receive, send)\n",
      "  File \"C:\\Users\\visio\\AppData\\Local\\Programs\\Python\\Python310\\lib\\site-packages\\starlette\\middleware\\errors.py\", line 187, in __call__\n",
      "    raise exc\n",
      "  File \"C:\\Users\\visio\\AppData\\Local\\Programs\\Python\\Python310\\lib\\site-packages\\starlette\\middleware\\errors.py\", line 165, in __call__\n",
      "    await self.app(scope, receive, _send)\n",
      "  File \"C:\\Users\\visio\\AppData\\Local\\Programs\\Python\\Python310\\lib\\site-packages\\gradio\\route_utils.py\", line 829, in __call__\n",
      "    await self.app(scope, receive, send)\n",
      "  File \"C:\\Users\\visio\\AppData\\Local\\Programs\\Python\\Python310\\lib\\site-packages\\starlette\\middleware\\exceptions.py\", line 62, in __call__\n",
      "    await wrap_app_handling_exceptions(self.app, conn)(scope, receive, send)\n",
      "  File \"C:\\Users\\visio\\AppData\\Local\\Programs\\Python\\Python310\\lib\\site-packages\\starlette\\_exception_handler.py\", line 53, in wrapped_app\n",
      "    raise exc\n",
      "  File \"C:\\Users\\visio\\AppData\\Local\\Programs\\Python\\Python310\\lib\\site-packages\\starlette\\_exception_handler.py\", line 42, in wrapped_app\n",
      "    await app(scope, receive, sender)\n",
      "  File \"C:\\Users\\visio\\AppData\\Local\\Programs\\Python\\Python310\\lib\\site-packages\\starlette\\routing.py\", line 714, in __call__\n",
      "    await self.middleware_stack(scope, receive, send)\n",
      "  File \"C:\\Users\\visio\\AppData\\Local\\Programs\\Python\\Python310\\lib\\site-packages\\starlette\\routing.py\", line 734, in app\n",
      "    await route.handle(scope, receive, send)\n",
      "  File \"C:\\Users\\visio\\AppData\\Local\\Programs\\Python\\Python310\\lib\\site-packages\\starlette\\routing.py\", line 288, in handle\n",
      "    await self.app(scope, receive, send)\n",
      "  File \"C:\\Users\\visio\\AppData\\Local\\Programs\\Python\\Python310\\lib\\site-packages\\starlette\\routing.py\", line 76, in app\n",
      "    await wrap_app_handling_exceptions(app, request)(scope, receive, send)\n",
      "  File \"C:\\Users\\visio\\AppData\\Local\\Programs\\Python\\Python310\\lib\\site-packages\\starlette\\_exception_handler.py\", line 53, in wrapped_app\n",
      "    raise exc\n",
      "  File \"C:\\Users\\visio\\AppData\\Local\\Programs\\Python\\Python310\\lib\\site-packages\\starlette\\_exception_handler.py\", line 42, in wrapped_app\n",
      "    await app(scope, receive, sender)\n",
      "  File \"C:\\Users\\visio\\AppData\\Local\\Programs\\Python\\Python310\\lib\\site-packages\\starlette\\routing.py\", line 74, in app\n",
      "    await response(scope, receive, send)\n",
      "  File \"C:\\Users\\visio\\AppData\\Local\\Programs\\Python\\Python310\\lib\\site-packages\\starlette\\responses.py\", line 359, in __call__\n",
      "    await self._handle_simple(send, send_header_only)\n",
      "  File \"C:\\Users\\visio\\AppData\\Local\\Programs\\Python\\Python310\\lib\\site-packages\\starlette\\responses.py\", line 388, in _handle_simple\n",
      "    await send({\"type\": \"http.response.body\", \"body\": chunk, \"more_body\": more_body})\n",
      "  File \"C:\\Users\\visio\\AppData\\Local\\Programs\\Python\\Python310\\lib\\site-packages\\starlette\\_exception_handler.py\", line 39, in sender\n",
      "    await send(message)\n",
      "  File \"C:\\Users\\visio\\AppData\\Local\\Programs\\Python\\Python310\\lib\\site-packages\\starlette\\_exception_handler.py\", line 39, in sender\n",
      "    await send(message)\n",
      "  File \"C:\\Users\\visio\\AppData\\Local\\Programs\\Python\\Python310\\lib\\site-packages\\starlette\\middleware\\errors.py\", line 162, in _send\n",
      "    await send(message)\n",
      "  File \"C:\\Users\\visio\\AppData\\Local\\Programs\\Python\\Python310\\lib\\site-packages\\uvicorn\\protocols\\http\\h11_impl.py\", line 507, in send\n",
      "    output = self.conn.send(event=h11.EndOfMessage())\n",
      "  File \"C:\\Users\\visio\\AppData\\Local\\Programs\\Python\\Python310\\lib\\site-packages\\h11\\_connection.py\", line 512, in send\n",
      "    data_list = self.send_with_data_passthrough(event)\n",
      "  File \"C:\\Users\\visio\\AppData\\Local\\Programs\\Python\\Python310\\lib\\site-packages\\h11\\_connection.py\", line 545, in send_with_data_passthrough\n",
      "    writer(event, data_list.append)\n",
      "  File \"C:\\Users\\visio\\AppData\\Local\\Programs\\Python\\Python310\\lib\\site-packages\\h11\\_writers.py\", line 67, in __call__\n",
      "    self.send_eom(event.headers, write)\n",
      "  File \"C:\\Users\\visio\\AppData\\Local\\Programs\\Python\\Python310\\lib\\site-packages\\h11\\_writers.py\", line 96, in send_eom\n",
      "    raise LocalProtocolError(\"Too little data for declared Content-Length\")\n",
      "h11._util.LocalProtocolError: Too little data for declared Content-Length\n"
     ]
    }
   ],
   "source": [
    "def stylize_image(content, style, mask):\n",
    "    content = Image.open(content).convert(\"RGB\").resize((256, 256))\n",
    "    style = Image.open(style).convert(\"RGB\").resize((256, 256))\n",
    "    mask = Image.open(mask).convert(\"L\").resize((256, 256))\n",
    "    output = run_style_transfer(content, style, mask)\n",
    "    return output\n",
    "\n",
    "interface = gr.Interface(\n",
    "    fn=stylize_image,\n",
    "    inputs=[\n",
    "        gr.Image(type=\"filepath\", label=\"Content Image\"),\n",
    "        gr.Image(type=\"filepath\", label=\"Style Image\"),\n",
    "        gr.Image(type=\"filepath\", label=\"Mask Image\")\n",
    "    ],\n",
    "    outputs=gr.Image(type=\"pil\", label=\"Stylized Output\"),\n",
    "    title=\"Masked Style Transfer with VGG16\",\n",
    "    description=\"Upload a content image, a style image, and a binary mask to selectively stylize parts of your image.\"\n",
    ")\n",
    "\n",
    "interface.launch(debug=True, share=False)"
   ]
  },
  {
   "cell_type": "code",
   "execution_count": null,
   "id": "175d5589-9d74-4b35-b294-38f692480306",
   "metadata": {},
   "outputs": [],
   "source": []
  }
 ],
 "metadata": {
  "kernelspec": {
   "display_name": "Python 3 (ipykernel)",
   "language": "python",
   "name": "python3"
  },
  "language_info": {
   "codemirror_mode": {
    "name": "ipython",
    "version": 3
   },
   "file_extension": ".py",
   "mimetype": "text/x-python",
   "name": "python",
   "nbconvert_exporter": "python",
   "pygments_lexer": "ipython3",
   "version": "3.10.0"
  }
 },
 "nbformat": 4,
 "nbformat_minor": 5
}
